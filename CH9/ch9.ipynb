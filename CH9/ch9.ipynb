{
  "nbformat": 4,
  "nbformat_minor": 0,
  "metadata": {
    "colab": {
      "provenance": []
    },
    "kernelspec": {
      "name": "python3",
      "display_name": "Python 3"
    },
    "language_info": {
      "name": "python"
    }
  },
  "cells": [
    {
      "cell_type": "code",
      "source": [
        "!pip install -U nltk\n",
        "!pip install -U spacy\n",
        "!pip install --upgrade gensim\n",
        "!pip install -U textblob"
      ],
      "metadata": {
        "colab": {
          "base_uri": "https://localhost:8080/"
        },
        "id": "jZlrnjT9Y8qj",
        "outputId": "ad9db072-c32f-4941-e76b-1cafead8adb0"
      },
      "execution_count": 10,
      "outputs": [
        {
          "output_type": "stream",
          "name": "stdout",
          "text": [
            "Looking in indexes: https://pypi.org/simple, https://us-python.pkg.dev/colab-wheels/public/simple/\n",
            "Requirement already satisfied: nltk in /usr/local/lib/python3.8/dist-packages (3.7)\n",
            "Collecting nltk\n",
            "  Downloading nltk-3.8.1-py3-none-any.whl (1.5 MB)\n",
            "\u001b[2K     \u001b[90m━━━━━━━━━━━━━━━━━━━━━━━━━━━━━━━━━━━━━━━━\u001b[0m \u001b[32m1.5/1.5 MB\u001b[0m \u001b[31m34.9 MB/s\u001b[0m eta \u001b[36m0:00:00\u001b[0m\n",
            "\u001b[?25hRequirement already satisfied: click in /usr/local/lib/python3.8/dist-packages (from nltk) (7.1.2)\n",
            "Requirement already satisfied: regex>=2021.8.3 in /usr/local/lib/python3.8/dist-packages (from nltk) (2022.6.2)\n",
            "Requirement already satisfied: tqdm in /usr/local/lib/python3.8/dist-packages (from nltk) (4.64.1)\n",
            "Requirement already satisfied: joblib in /usr/local/lib/python3.8/dist-packages (from nltk) (1.2.0)\n",
            "Installing collected packages: nltk\n",
            "  Attempting uninstall: nltk\n",
            "    Found existing installation: nltk 3.7\n",
            "    Uninstalling nltk-3.7:\n",
            "      Successfully uninstalled nltk-3.7\n",
            "Successfully installed nltk-3.8.1\n",
            "Looking in indexes: https://pypi.org/simple, https://us-python.pkg.dev/colab-wheels/public/simple/\n",
            "Requirement already satisfied: spacy in /usr/local/lib/python3.8/dist-packages (3.4.4)\n",
            "Collecting spacy\n",
            "  Downloading spacy-3.5.0-cp38-cp38-manylinux_2_17_x86_64.manylinux2014_x86_64.whl (6.7 MB)\n",
            "\u001b[2K     \u001b[90m━━━━━━━━━━━━━━━━━━━━━━━━━━━━━━━━━━━━━━━━\u001b[0m \u001b[32m6.7/6.7 MB\u001b[0m \u001b[31m45.7 MB/s\u001b[0m eta \u001b[36m0:00:00\u001b[0m\n",
            "\u001b[?25hRequirement already satisfied: numpy>=1.15.0 in /usr/local/lib/python3.8/dist-packages (from spacy) (1.21.6)\n",
            "Requirement already satisfied: cymem<2.1.0,>=2.0.2 in /usr/local/lib/python3.8/dist-packages (from spacy) (2.0.7)\n",
            "Requirement already satisfied: pathy>=0.10.0 in /usr/local/lib/python3.8/dist-packages (from spacy) (0.10.1)\n",
            "Requirement already satisfied: srsly<3.0.0,>=2.4.3 in /usr/local/lib/python3.8/dist-packages (from spacy) (2.4.5)\n",
            "Requirement already satisfied: jinja2 in /usr/local/lib/python3.8/dist-packages (from spacy) (2.11.3)\n",
            "Requirement already satisfied: catalogue<2.1.0,>=2.0.6 in /usr/local/lib/python3.8/dist-packages (from spacy) (2.0.8)\n",
            "Requirement already satisfied: langcodes<4.0.0,>=3.2.0 in /usr/local/lib/python3.8/dist-packages (from spacy) (3.3.0)\n",
            "Requirement already satisfied: spacy-legacy<3.1.0,>=3.0.11 in /usr/local/lib/python3.8/dist-packages (from spacy) (3.0.11)\n",
            "Requirement already satisfied: preshed<3.1.0,>=3.0.2 in /usr/local/lib/python3.8/dist-packages (from spacy) (3.0.8)\n",
            "Requirement already satisfied: thinc<8.2.0,>=8.1.0 in /usr/local/lib/python3.8/dist-packages (from spacy) (8.1.6)\n",
            "Requirement already satisfied: tqdm<5.0.0,>=4.38.0 in /usr/local/lib/python3.8/dist-packages (from spacy) (4.64.1)\n",
            "Requirement already satisfied: typer<0.8.0,>=0.3.0 in /usr/local/lib/python3.8/dist-packages (from spacy) (0.7.0)\n",
            "Requirement already satisfied: wasabi<1.2.0,>=0.9.1 in /usr/local/lib/python3.8/dist-packages (from spacy) (0.10.1)\n",
            "Requirement already satisfied: packaging>=20.0 in /usr/local/lib/python3.8/dist-packages (from spacy) (21.3)\n",
            "Requirement already satisfied: smart-open<7.0.0,>=5.2.1 in /usr/local/lib/python3.8/dist-packages (from spacy) (6.3.0)\n",
            "Requirement already satisfied: spacy-loggers<2.0.0,>=1.0.0 in /usr/local/lib/python3.8/dist-packages (from spacy) (1.0.4)\n",
            "Requirement already satisfied: murmurhash<1.1.0,>=0.28.0 in /usr/local/lib/python3.8/dist-packages (from spacy) (1.0.9)\n",
            "Requirement already satisfied: setuptools in /usr/local/lib/python3.8/dist-packages (from spacy) (57.4.0)\n",
            "Requirement already satisfied: pydantic!=1.8,!=1.8.1,<1.11.0,>=1.7.4 in /usr/local/lib/python3.8/dist-packages (from spacy) (1.10.4)\n",
            "Requirement already satisfied: requests<3.0.0,>=2.13.0 in /usr/local/lib/python3.8/dist-packages (from spacy) (2.25.1)\n",
            "Requirement already satisfied: pyparsing!=3.0.5,>=2.0.2 in /usr/local/lib/python3.8/dist-packages (from packaging>=20.0->spacy) (3.0.9)\n",
            "Requirement already satisfied: typing-extensions>=4.2.0 in /usr/local/lib/python3.8/dist-packages (from pydantic!=1.8,!=1.8.1,<1.11.0,>=1.7.4->spacy) (4.4.0)\n",
            "Requirement already satisfied: certifi>=2017.4.17 in /usr/local/lib/python3.8/dist-packages (from requests<3.0.0,>=2.13.0->spacy) (2022.12.7)\n",
            "Requirement already satisfied: chardet<5,>=3.0.2 in /usr/local/lib/python3.8/dist-packages (from requests<3.0.0,>=2.13.0->spacy) (4.0.0)\n",
            "Requirement already satisfied: idna<3,>=2.5 in /usr/local/lib/python3.8/dist-packages (from requests<3.0.0,>=2.13.0->spacy) (2.10)\n",
            "Requirement already satisfied: urllib3<1.27,>=1.21.1 in /usr/local/lib/python3.8/dist-packages (from requests<3.0.0,>=2.13.0->spacy) (1.24.3)\n",
            "Requirement already satisfied: blis<0.8.0,>=0.7.8 in /usr/local/lib/python3.8/dist-packages (from thinc<8.2.0,>=8.1.0->spacy) (0.7.9)\n",
            "Requirement already satisfied: confection<1.0.0,>=0.0.1 in /usr/local/lib/python3.8/dist-packages (from thinc<8.2.0,>=8.1.0->spacy) (0.0.3)\n",
            "Requirement already satisfied: click<9.0.0,>=7.1.1 in /usr/local/lib/python3.8/dist-packages (from typer<0.8.0,>=0.3.0->spacy) (7.1.2)\n",
            "Requirement already satisfied: MarkupSafe>=0.23 in /usr/local/lib/python3.8/dist-packages (from jinja2->spacy) (2.0.1)\n",
            "Installing collected packages: spacy\n",
            "  Attempting uninstall: spacy\n",
            "    Found existing installation: spacy 3.4.4\n",
            "    Uninstalling spacy-3.4.4:\n",
            "      Successfully uninstalled spacy-3.4.4\n",
            "\u001b[31mERROR: pip's dependency resolver does not currently take into account all the packages that are installed. This behaviour is the source of the following dependency conflicts.\n",
            "en-core-web-sm 3.4.1 requires spacy<3.5.0,>=3.4.0, but you have spacy 3.5.0 which is incompatible.\u001b[0m\u001b[31m\n",
            "\u001b[0mSuccessfully installed spacy-3.5.0\n",
            "Looking in indexes: https://pypi.org/simple, https://us-python.pkg.dev/colab-wheels/public/simple/\n",
            "Requirement already satisfied: gensim in /usr/local/lib/python3.8/dist-packages (3.6.0)\n",
            "Collecting gensim\n",
            "  Downloading gensim-4.3.0-cp38-cp38-manylinux_2_12_x86_64.manylinux2010_x86_64.whl (24.1 MB)\n",
            "\u001b[2K     \u001b[90m━━━━━━━━━━━━━━━━━━━━━━━━━━━━━━━━━━━━━━━━\u001b[0m \u001b[32m24.1/24.1 MB\u001b[0m \u001b[31m29.4 MB/s\u001b[0m eta \u001b[36m0:00:00\u001b[0m\n",
            "\u001b[?25hCollecting FuzzyTM>=0.4.0\n",
            "  Downloading FuzzyTM-2.0.5-py3-none-any.whl (29 kB)\n",
            "Requirement already satisfied: numpy>=1.18.5 in /usr/local/lib/python3.8/dist-packages (from gensim) (1.21.6)\n",
            "Requirement already satisfied: scipy>=1.7.0 in /usr/local/lib/python3.8/dist-packages (from gensim) (1.7.3)\n",
            "Requirement already satisfied: smart-open>=1.8.1 in /usr/local/lib/python3.8/dist-packages (from gensim) (6.3.0)\n",
            "Collecting pyfume\n",
            "  Downloading pyFUME-0.2.25-py3-none-any.whl (67 kB)\n",
            "\u001b[2K     \u001b[90m━━━━━━━━━━━━━━━━━━━━━━━━━━━━━━━━━━━━━━━━\u001b[0m \u001b[32m67.1/67.1 KB\u001b[0m \u001b[31m7.4 MB/s\u001b[0m eta \u001b[36m0:00:00\u001b[0m\n",
            "\u001b[?25hRequirement already satisfied: pandas in /usr/local/lib/python3.8/dist-packages (from FuzzyTM>=0.4.0->gensim) (1.3.5)\n",
            "Requirement already satisfied: python-dateutil>=2.7.3 in /usr/local/lib/python3.8/dist-packages (from pandas->FuzzyTM>=0.4.0->gensim) (2.8.2)\n",
            "Requirement already satisfied: pytz>=2017.3 in /usr/local/lib/python3.8/dist-packages (from pandas->FuzzyTM>=0.4.0->gensim) (2022.7)\n",
            "Collecting fst-pso\n",
            "  Downloading fst-pso-1.8.1.tar.gz (18 kB)\n",
            "  Preparing metadata (setup.py) ... \u001b[?25l\u001b[?25hdone\n",
            "Collecting simpful\n",
            "  Downloading simpful-2.9.0-py3-none-any.whl (30 kB)\n",
            "Requirement already satisfied: six>=1.5 in /usr/local/lib/python3.8/dist-packages (from python-dateutil>=2.7.3->pandas->FuzzyTM>=0.4.0->gensim) (1.15.0)\n",
            "Collecting miniful\n",
            "  Downloading miniful-0.0.6.tar.gz (2.8 kB)\n",
            "  Preparing metadata (setup.py) ... \u001b[?25l\u001b[?25hdone\n",
            "Requirement already satisfied: requests in /usr/local/lib/python3.8/dist-packages (from simpful->pyfume->FuzzyTM>=0.4.0->gensim) (2.25.1)\n",
            "Requirement already satisfied: certifi>=2017.4.17 in /usr/local/lib/python3.8/dist-packages (from requests->simpful->pyfume->FuzzyTM>=0.4.0->gensim) (2022.12.7)\n",
            "Requirement already satisfied: chardet<5,>=3.0.2 in /usr/local/lib/python3.8/dist-packages (from requests->simpful->pyfume->FuzzyTM>=0.4.0->gensim) (4.0.0)\n",
            "Requirement already satisfied: idna<3,>=2.5 in /usr/local/lib/python3.8/dist-packages (from requests->simpful->pyfume->FuzzyTM>=0.4.0->gensim) (2.10)\n",
            "Requirement already satisfied: urllib3<1.27,>=1.21.1 in /usr/local/lib/python3.8/dist-packages (from requests->simpful->pyfume->FuzzyTM>=0.4.0->gensim) (1.24.3)\n",
            "Building wheels for collected packages: fst-pso, miniful\n",
            "  Building wheel for fst-pso (setup.py) ... \u001b[?25l\u001b[?25hdone\n",
            "  Created wheel for fst-pso: filename=fst_pso-1.8.1-py3-none-any.whl size=20443 sha256=6cd5f59caecd9fba13cdfbb048ca2946174d23e06d1eee32b742ba6edfacf892\n",
            "  Stored in directory: /root/.cache/pip/wheels/6a/65/c4/d27eeee9ba3fc150a0dae150519591103b9e0dbffde3ae77dc\n",
            "  Building wheel for miniful (setup.py) ... \u001b[?25l\u001b[?25hdone\n",
            "  Created wheel for miniful: filename=miniful-0.0.6-py3-none-any.whl size=3530 sha256=8cfee9b3e78cf5040c50623bc415be1603a4db44fa0b96a2032f71e810a57f1e\n",
            "  Stored in directory: /root/.cache/pip/wheels/ba/d9/a0/ddd93af16d5855dd9bad417623e70948fdac119d1d34fb17c8\n",
            "Successfully built fst-pso miniful\n",
            "Installing collected packages: simpful, miniful, fst-pso, pyfume, FuzzyTM, gensim\n",
            "  Attempting uninstall: gensim\n",
            "    Found existing installation: gensim 3.6.0\n",
            "    Uninstalling gensim-3.6.0:\n",
            "      Successfully uninstalled gensim-3.6.0\n",
            "Successfully installed FuzzyTM-2.0.5 fst-pso-1.8.1 gensim-4.3.0 miniful-0.0.6 pyfume-0.2.25 simpful-2.9.0\n",
            "Looking in indexes: https://pypi.org/simple, https://us-python.pkg.dev/colab-wheels/public/simple/\n",
            "Requirement already satisfied: textblob in /usr/local/lib/python3.8/dist-packages (0.15.3)\n",
            "Collecting textblob\n",
            "  Downloading textblob-0.17.1-py2.py3-none-any.whl (636 kB)\n",
            "\u001b[2K     \u001b[90m━━━━━━━━━━━━━━━━━━━━━━━━━━━━━━━━━━━━━━\u001b[0m \u001b[32m636.8/636.8 KB\u001b[0m \u001b[31m21.6 MB/s\u001b[0m eta \u001b[36m0:00:00\u001b[0m\n",
            "\u001b[?25hRequirement already satisfied: nltk>=3.1 in /usr/local/lib/python3.8/dist-packages (from textblob) (3.8.1)\n",
            "Requirement already satisfied: regex>=2021.8.3 in /usr/local/lib/python3.8/dist-packages (from nltk>=3.1->textblob) (2022.6.2)\n",
            "Requirement already satisfied: click in /usr/local/lib/python3.8/dist-packages (from nltk>=3.1->textblob) (7.1.2)\n",
            "Requirement already satisfied: joblib in /usr/local/lib/python3.8/dist-packages (from nltk>=3.1->textblob) (1.2.0)\n",
            "Requirement already satisfied: tqdm in /usr/local/lib/python3.8/dist-packages (from nltk>=3.1->textblob) (4.64.1)\n",
            "Installing collected packages: textblob\n",
            "  Attempting uninstall: textblob\n",
            "    Found existing installation: textblob 0.15.3\n",
            "    Uninstalling textblob-0.15.3:\n",
            "      Successfully uninstalled textblob-0.15.3\n",
            "Successfully installed textblob-0.17.1\n"
          ]
        }
      ]
    },
    {
      "cell_type": "markdown",
      "source": [
        "As always, we first import the loader function for the 20 newsgroups data, as\n",
        "follows"
      ],
      "metadata": {
        "id": "gz0ToImvVAOA"
      }
    },
    {
      "cell_type": "code",
      "execution_count": 4,
      "metadata": {
        "id": "Xjbr9VB0U9TR"
      },
      "outputs": [],
      "source": [
        "from sklearn.datasets import fetch_20newsgroups"
      ]
    },
    {
      "cell_type": "markdown",
      "source": [
        "Then, we download the dataset with all the default parameters, as follows"
      ],
      "metadata": {
        "id": "zwnmAcqLVNOE"
      }
    },
    {
      "cell_type": "code",
      "source": [
        "groups = fetch_20newsgroups()"
      ],
      "metadata": {
        "id": "itYpDGAVVQIe"
      },
      "execution_count": 5,
      "outputs": []
    },
    {
      "cell_type": "markdown",
      "source": [
        "The data object is in the form of a\n",
        "key-value dictionary. Its keys are as follows"
      ],
      "metadata": {
        "id": "eonFXVAbVZFc"
      }
    },
    {
      "cell_type": "code",
      "source": [
        "groups.keys()"
      ],
      "metadata": {
        "colab": {
          "base_uri": "https://localhost:8080/"
        },
        "id": "qebhw19GVZy8",
        "outputId": "29ae0823-74cc-42d8-c64a-294c2455a9e0"
      },
      "execution_count": 6,
      "outputs": [
        {
          "output_type": "execute_result",
          "data": {
            "text/plain": [
              "dict_keys(['data', 'filenames', 'target_names', 'target', 'DESCR'])"
            ]
          },
          "metadata": {},
          "execution_count": 6
        }
      ]
    },
    {
      "cell_type": "markdown",
      "source": [
        "The target_names key gives the newsgroups names"
      ],
      "metadata": {
        "id": "KqLyftx9VdyI"
      }
    },
    {
      "cell_type": "code",
      "source": [
        "groups['target_names']"
      ],
      "metadata": {
        "colab": {
          "base_uri": "https://localhost:8080/"
        },
        "id": "rfGTdaLoVemT",
        "outputId": "f3b00f13-aa92-4fa3-95eb-7ca92c1d1d17"
      },
      "execution_count": 7,
      "outputs": [
        {
          "output_type": "execute_result",
          "data": {
            "text/plain": [
              "['alt.atheism',\n",
              " 'comp.graphics',\n",
              " 'comp.os.ms-windows.misc',\n",
              " 'comp.sys.ibm.pc.hardware',\n",
              " 'comp.sys.mac.hardware',\n",
              " 'comp.windows.x',\n",
              " 'misc.forsale',\n",
              " 'rec.autos',\n",
              " 'rec.motorcycles',\n",
              " 'rec.sport.baseball',\n",
              " 'rec.sport.hockey',\n",
              " 'sci.crypt',\n",
              " 'sci.electronics',\n",
              " 'sci.med',\n",
              " 'sci.space',\n",
              " 'soc.religion.christian',\n",
              " 'talk.politics.guns',\n",
              " 'talk.politics.mideast',\n",
              " 'talk.politics.misc',\n",
              " 'talk.religion.misc']"
            ]
          },
          "metadata": {},
          "execution_count": 7
        }
      ]
    },
    {
      "cell_type": "markdown",
      "source": [
        "The target key corresponds to a newsgroup, but is encoded as an integer"
      ],
      "metadata": {
        "id": "eEvOb9s9Vhrs"
      }
    },
    {
      "cell_type": "code",
      "source": [
        "groups.target"
      ],
      "metadata": {
        "colab": {
          "base_uri": "https://localhost:8080/"
        },
        "id": "uC_4jZdKVk0t",
        "outputId": "94e4082c-58ba-448c-a182-41f922bf665a"
      },
      "execution_count": 8,
      "outputs": [
        {
          "output_type": "execute_result",
          "data": {
            "text/plain": [
              "array([7, 4, 4, ..., 3, 1, 8])"
            ]
          },
          "metadata": {},
          "execution_count": 8
        }
      ]
    },
    {
      "cell_type": "markdown",
      "source": [
        "Then, what are the distinct values for these integers? We can use the unique function\n",
        "from NumPy to figure it out"
      ],
      "metadata": {
        "id": "EIYvhlqOVqkI"
      }
    },
    {
      "cell_type": "code",
      "source": [
        "import numpy as np\n",
        "np.unique(groups.target)"
      ],
      "metadata": {
        "colab": {
          "base_uri": "https://localhost:8080/"
        },
        "id": "rrFBprM8Vrl1",
        "outputId": "827f34a9-6b8b-4966-c455-82db55cb4e8c"
      },
      "execution_count": 9,
      "outputs": [
        {
          "output_type": "execute_result",
          "data": {
            "text/plain": [
              "array([ 0,  1,  2,  3,  4,  5,  6,  7,  8,  9, 10, 11, 12, 13, 14, 15, 16,\n",
              "       17, 18, 19])"
            ]
          },
          "metadata": {},
          "execution_count": 9
        }
      ]
    },
    {
      "cell_type": "markdown",
      "source": [
        "We will use the seaborn package (https://seaborn.pydata.org/) to compute the\n",
        "histogram of categories and plot it utilizing the matplotlib package (https://\n",
        "matplotlib.org/). We can install both packages via pip as follows"
      ],
      "metadata": {
        "id": "T2ZaNdwoV3rE"
      }
    },
    {
      "cell_type": "code",
      "source": [
        "!python -m pip uninstall matplotlib\n",
        "!pip install matplotlib==3.1.3\n",
        "!pip install seaborn"
      ],
      "metadata": {
        "colab": {
          "base_uri": "https://localhost:8080/",
          "height": 748
        },
        "id": "OwBaTfjXV4Xk",
        "outputId": "71638f34-7fd5-4326-ad9e-e20a11c43d49"
      },
      "execution_count": 20,
      "outputs": [
        {
          "output_type": "stream",
          "name": "stdout",
          "text": [
            "Found existing installation: matplotlib 3.6.3\n",
            "Uninstalling matplotlib-3.6.3:\n",
            "  Would remove:\n",
            "    /usr/local/lib/python3.8/dist-packages/matplotlib-3.6.3-py3.8-nspkg.pth\n",
            "    /usr/local/lib/python3.8/dist-packages/matplotlib-3.6.3.dist-info/*\n",
            "    /usr/local/lib/python3.8/dist-packages/matplotlib/*\n",
            "    /usr/local/lib/python3.8/dist-packages/mpl_toolkits/axes_grid1/*\n",
            "    /usr/local/lib/python3.8/dist-packages/mpl_toolkits/axisartist/*\n",
            "    /usr/local/lib/python3.8/dist-packages/mpl_toolkits/mplot3d/*\n",
            "    /usr/local/lib/python3.8/dist-packages/mpl_toolkits/tests/*\n",
            "    /usr/local/lib/python3.8/dist-packages/pylab.py\n",
            "Proceed (Y/n)? Y\n",
            "  Successfully uninstalled matplotlib-3.6.3\n",
            "Looking in indexes: https://pypi.org/simple, https://us-python.pkg.dev/colab-wheels/public/simple/\n",
            "Collecting matplotlib==3.1.3\n",
            "  Downloading matplotlib-3.1.3-cp38-cp38-manylinux1_x86_64.whl (13.1 MB)\n",
            "\u001b[2K     \u001b[90m━━━━━━━━━━━━━━━━━━━━━━━━━━━━━━━━━━━━━━━━\u001b[0m \u001b[32m13.1/13.1 MB\u001b[0m \u001b[31m72.7 MB/s\u001b[0m eta \u001b[36m0:00:00\u001b[0m\n",
            "\u001b[?25hRequirement already satisfied: python-dateutil>=2.1 in /usr/local/lib/python3.8/dist-packages (from matplotlib==3.1.3) (2.8.2)\n",
            "Requirement already satisfied: numpy>=1.11 in /usr/local/lib/python3.8/dist-packages (from matplotlib==3.1.3) (1.21.6)\n",
            "Requirement already satisfied: pyparsing!=2.0.4,!=2.1.2,!=2.1.6,>=2.0.1 in /usr/local/lib/python3.8/dist-packages (from matplotlib==3.1.3) (3.0.9)\n",
            "Requirement already satisfied: cycler>=0.10 in /usr/local/lib/python3.8/dist-packages (from matplotlib==3.1.3) (0.11.0)\n",
            "Requirement already satisfied: kiwisolver>=1.0.1 in /usr/local/lib/python3.8/dist-packages (from matplotlib==3.1.3) (1.4.4)\n",
            "Requirement already satisfied: six>=1.5 in /usr/local/lib/python3.8/dist-packages (from python-dateutil>=2.1->matplotlib==3.1.3) (1.15.0)\n",
            "Installing collected packages: matplotlib\n",
            "Successfully installed matplotlib-3.1.3\n"
          ]
        },
        {
          "output_type": "display_data",
          "data": {
            "application/vnd.colab-display-data+json": {
              "pip_warning": {
                "packages": [
                  "matplotlib",
                  "mpl_toolkits"
                ]
              }
            }
          },
          "metadata": {}
        },
        {
          "output_type": "stream",
          "name": "stdout",
          "text": [
            "Looking in indexes: https://pypi.org/simple, https://us-python.pkg.dev/colab-wheels/public/simple/\n",
            "Requirement already satisfied: seaborn in /usr/local/lib/python3.8/dist-packages (0.11.2)\n",
            "Requirement already satisfied: pandas>=0.23 in /usr/local/lib/python3.8/dist-packages (from seaborn) (1.3.5)\n",
            "Requirement already satisfied: numpy>=1.15 in /usr/local/lib/python3.8/dist-packages (from seaborn) (1.21.6)\n",
            "Requirement already satisfied: matplotlib>=2.2 in /usr/local/lib/python3.8/dist-packages (from seaborn) (3.1.3)\n",
            "Requirement already satisfied: scipy>=1.0 in /usr/local/lib/python3.8/dist-packages (from seaborn) (1.7.3)\n",
            "Requirement already satisfied: python-dateutil>=2.1 in /usr/local/lib/python3.8/dist-packages (from matplotlib>=2.2->seaborn) (2.8.2)\n",
            "Requirement already satisfied: cycler>=0.10 in /usr/local/lib/python3.8/dist-packages (from matplotlib>=2.2->seaborn) (0.11.0)\n",
            "Requirement already satisfied: pyparsing!=2.0.4,!=2.1.2,!=2.1.6,>=2.0.1 in /usr/local/lib/python3.8/dist-packages (from matplotlib>=2.2->seaborn) (3.0.9)\n",
            "Requirement already satisfied: kiwisolver>=1.0.1 in /usr/local/lib/python3.8/dist-packages (from matplotlib>=2.2->seaborn) (1.4.4)\n",
            "Requirement already satisfied: pytz>=2017.3 in /usr/local/lib/python3.8/dist-packages (from pandas>=0.23->seaborn) (2022.7)\n",
            "Requirement already satisfied: six>=1.5 in /usr/local/lib/python3.8/dist-packages (from python-dateutil>=2.1->matplotlib>=2.2->seaborn) (1.15.0)\n"
          ]
        }
      ]
    },
    {
      "cell_type": "markdown",
      "source": [
        "Now, let's display the distribution of the classes, as follows"
      ],
      "metadata": {
        "id": "LaOc1wwbWLwo"
      }
    },
    {
      "cell_type": "code",
      "source": [
        "import seaborn as sns\n",
        "sns.histplot(groups.target)\n",
        "import matplotlib.pyplot as plt\n",
        "plt.show()"
      ],
      "metadata": {
        "colab": {
          "base_uri": "https://localhost:8080/",
          "height": 265
        },
        "id": "x_T8GGxDWPgf",
        "outputId": "5bb862c3-4762-406a-da41-ef6d4b35344b"
      },
      "execution_count": 10,
      "outputs": [
        {
          "output_type": "display_data",
          "data": {
            "text/plain": [
              "<Figure size 432x288 with 1 Axes>"
            ],
            "image/png": "[encoded data removed]"
          },
          "metadata": {
            "needs_background": "light"
          }
        }
      ]
    },
    {
      "cell_type": "markdown",
      "source": [
        "Now, let's now have a look at the first document and its topic number and name by\n",
        "executing the following command"
      ],
      "metadata": {
        "id": "tHGxKkswX0Cd"
      }
    },
    {
      "cell_type": "code",
      "source": [
        "groups.data[0]\n",
        "groups.target[0]\n",
        "groups.target_names[groups.target[0]]"
      ],
      "metadata": {
        "colab": {
          "base_uri": "https://localhost:8080/",
          "height": 35
        },
        "id": "U4R9ipl8X0tm",
        "outputId": "2762e802-b310-46a8-e826-be27f9612c0b"
      },
      "execution_count": 11,
      "outputs": [
        {
          "output_type": "execute_result",
          "data": {
            "text/plain": [
              "'rec.autos'"
            ],
            "application/vnd.google.colaboratory.intrinsic+json": {
              "type": "string"
            }
          },
          "metadata": {},
          "execution_count": 11
        }
      ]
    },
    {
      "cell_type": "markdown",
      "source": [
        "We are utilizing\n",
        "the CountVectorizer class from scikit-learn to do the work"
      ],
      "metadata": {
        "id": "oeur_PyUcC0S"
      }
    },
    {
      "cell_type": "code",
      "source": [
        "from sklearn.feature_extraction.text import CountVectorizer"
      ],
      "metadata": {
        "id": "7Depa1EkcDdO"
      },
      "execution_count": 12,
      "outputs": []
    },
    {
      "cell_type": "markdown",
      "source": [
        "We first initialize the count vectorizer with 500 top features"
      ],
      "metadata": {
        "id": "yS5jb-Uwd3g2"
      }
    },
    {
      "cell_type": "code",
      "source": [
        "count_vector = CountVectorizer(max_features=500)"
      ],
      "metadata": {
        "id": "Wn4Zk2iQd4NF"
      },
      "execution_count": 13,
      "outputs": []
    },
    {
      "cell_type": "markdown",
      "source": [
        "Use it to fit on the raw text data as follows"
      ],
      "metadata": {
        "id": "fRz-_kdCd5yI"
      }
    },
    {
      "cell_type": "code",
      "source": [
        "data_count = count_vector.fit_transform(groups.data)"
      ],
      "metadata": {
        "id": "fAQDalSMd8Oe"
      },
      "execution_count": 14,
      "outputs": []
    },
    {
      "cell_type": "markdown",
      "source": [
        "Now the count vectorizer captures the top 500 features and generates a token count\n",
        "matrix out of the original text input"
      ],
      "metadata": {
        "id": "X_iqbrBIeNy0"
      }
    },
    {
      "cell_type": "code",
      "source": [
        "data_count\n",
        "data_count[0]"
      ],
      "metadata": {
        "colab": {
          "base_uri": "https://localhost:8080/"
        },
        "id": "cSsmlSpBeOfX",
        "outputId": "6210e5e0-8559-40c8-9aee-8085c2412107"
      },
      "execution_count": 15,
      "outputs": [
        {
          "output_type": "execute_result",
          "data": {
            "text/plain": [
              "<1x500 sparse matrix of type '<class 'numpy.int64'>'\n",
              "\twith 53 stored elements in Compressed Sparse Row format>"
            ]
          },
          "metadata": {},
          "execution_count": 15
        }
      ]
    },
    {
      "cell_type": "markdown",
      "source": [
        "what are those 500 top features? They can be found in the following output"
      ],
      "metadata": {
        "id": "NBfcqz0HeUkZ"
      }
    },
    {
      "cell_type": "code",
      "source": [
        "print(count_vector.get_feature_names())"
      ],
      "metadata": {
        "colab": {
          "base_uri": "https://localhost:8080/"
        },
        "id": "Pzk_tmzAekqn",
        "outputId": "3e8a4bbf-e8da-4ab3-8bf5-1e0faf384024"
      },
      "execution_count": 17,
      "outputs": [
        {
          "output_type": "stream",
          "name": "stdout",
          "text": [
            "['00', '000', '10', '100', '11', '12', '13', '14', '145', '15', '16', '17', '18', '19', '1993', '20', '21', '22', '23', '24', '25', '26', '27', '30', '32', '34', '40', '50', '93', 'a86', 'able', 'about', 'above', 'ac', 'access', 'actually', 'address', 'after', 'again', 'against', 'ago', 'all', 'already', 'also', 'always', 'am', 'american', 'an', 'and', 'andrew', 'another', 'answer', 'any', 'anyone', 'anything', 'apple', 'apr', 'april', 'are', 'armenian', 'around', 'article', 'as', 'ask', 'at', 'au', 'available', 'away', 'ax', 'b8f', 'back', 'bad', 'based', 'be', 'because', 'been', 'before', 'being', 'believe', 'best', 'better', 'between', 'bible', 'big', 'bill', 'bit', 'book', 'both', 'but', 'buy', 'by', 'ca', 'call', 'called', 'came', 'can', 'canada', 'cannot', 'car', 'card', 'case', 'cc', 'center', 'change', 'children', 'chip', 'christian', 'clipper', 'co', 'code', 'color', 'com', 'come', 'computer', 'control', 'could', 'course', 'cs', 'current', 'data', 'david', 'day', 'days', 'de', 'department', 'did', 'didn', 'different', 'disk', 'distribution', 'do', 'does', 'doesn', 'doing', 'don', 'done', 'dos', 'down', 'drive', 'during', 'each', 'edu', 'either', 'else', 'email', 'encryption', 'end', 'enough', 'etc', 'even', 'ever', 'every', 'everything', 'evidence', 'example', 'fact', 'far', 'fax', 'few', 'file', 'files', 'find', 'first', 'following', 'for', 'found', 'free', 'from', 'ftp', 'full', 'g9v', 'game', 'games', 'general', 'get', 'getting', 'give', 'given', 'go', 'god', 'going', 'good', 'got', 'gov', 'government', 'graphics', 'great', 'group', 'gun', 'had', 'hand', 'hard', 'has', 'have', 'having', 'he', 'heard', 'help', 'her', 'here', 'high', 'him', 'his', 'home', 'hope', 'host', 'how', 'however', 'hp', 'human', 'ibm', 'idea', 'if', 'image', 'important', 'in', 'inc', 'info', 'information', 'institute', 'interested', 'internet', 'into', 'is', 'isn', 'israel', 'issue', 'it', 'its', 'jesus', 'jews', 'jim', 'john', 'just', 'keep', 'key', 'keywords', 'kind', 'know', 'large', 'last', 'law', 'least', 'left', 'less', 'let', 'life', 'like', 'line', 'lines', 'list', 'little', 'live', 'll', 'local', 'long', 'look', 'looking', 'lot', 'mac', 'made', 'mail', 'make', 'makes', 'man', 'many', 'mark', 'max', 'may', 'maybe', 'me', 'mean', 'means', 'memory', 'message', 'michael', 'might', 'mike', 'mit', 'money', 'more', 'most', 'mr', 'much', 'must', 'my', 'name', 'nasa', 'national', 'need', 'net', 'netcom', 'never', 'new', 'news', 'next', 'nntp', 'no', 'non', 'not', 'note', 'nothing', 'now', 'number', 'of', 'off', 'old', 'on', 'once', 'one', 'only', 'open', 'opinions', 'or', 'order', 'org', 'organization', 'other', 'others', 'our', 'out', 'over', 'own', 'part', 'paul', 'pc', 'people', 'perhaps', 'person', 'phone', 'pl', 'place', 'play', 'please', 'point', 'possible', 'post', 'posting', 'power', 'president', 'pretty', 'price', 'probably', 'problem', 'problems', 'program', 'public', 'put', 'question', 'questions', 'quite', 'rather', 're', 'read', 'real', 'really', 'reason', 'remember', 'reply', 'research', 'right', 'rights', 'robert', 'run', 'running', 'said', 'sale', 'same', 'say', 'saying', 'says', 'science', 'scsi', 'second', 'see', 'seem', 'seems', 'seen', 'send', 'server', 'set', 'several', 'she', 'should', 'show', 'side', 'since', 'small', 'so', 'software', 'some', 'someone', 'something', 'source', 'space', 'speed', 'standard', 'start', 'state', 'states', 'steve', 'still', 'stuff', 'subject', 'such', 'sun', 'support', 'sure', 'system', 'systems', 'take', 'team', 'technology', 'tell', 'than', 'thanks', 'that', 'the', 'their', 'them', 'then', 'there', 'these', 'they', 'thing', 'things', 'think', 'this', 'those', 'though', 'thought', 'three', 'through', 'time', 'times', 'to', 'today', 'told', 'too', 'true', 'try', 'trying', 'turkish', 'two', 'type', 'uiuc', 'uk', 'under', 'university', 'unix', 'until', 'up', 'us', 'usa', 'use', 'used', 'using', 'uucp', 've', 'version', 'very', 'vs', 'want', 'war', 'was', 'washington', 'way', 'we', 'well', 'were', 'what', 'when', 'where', 'whether', 'which', 'while', 'who', 'whole', 'why', 'will', 'win', 'window', 'windows', 'with', 'without', 'won', 'word', 'work', 'works', 'world', 'would', 'writes', 'wrong', 'wrote', 'year', 'years', 'yes', 'yet', 'you', 'your']\n"
          ]
        },
        {
          "output_type": "stream",
          "name": "stderr",
          "text": [
            "/usr/local/lib/python3.8/dist-packages/sklearn/utils/deprecation.py:87: FutureWarning: Function get_feature_names is deprecated; get_feature_names is deprecated in 1.0 and will be removed in 1.2. Please use get_feature_names_out instead.\n",
            "  warnings.warn(msg, category=FutureWarning)\n"
          ]
        }
      ]
    },
    {
      "cell_type": "markdown",
      "source": [
        "The filter function\n",
        "is defined as follows"
      ],
      "metadata": {
        "id": "BjZx15T3epV4"
      }
    },
    {
      "cell_type": "code",
      "source": [
        "data_cleaned = []\n",
        "for doc in groups.data:\n",
        "  doc_cleaned = ' '.join(word for word in doc.split()if word.isalpha())\n",
        "  data_cleaned.append(doc_cleaned)"
      ],
      "metadata": {
        "id": "HLR9yaHSesVS"
      },
      "execution_count": 18,
      "outputs": []
    },
    {
      "cell_type": "markdown",
      "source": [
        "Take scikit-learn as an\n",
        "example—you can check the list as follows"
      ],
      "metadata": {
        "id": "6Gl-c4ide7Qf"
      }
    },
    {
      "cell_type": "code",
      "source": [
        "from sklearn.feature_extraction import _stop_words\n",
        "print(_stop_words.ENGLISH_STOP_WORDS)"
      ],
      "metadata": {
        "colab": {
          "base_uri": "https://localhost:8080/"
        },
        "id": "hbVkkm4oe77-",
        "outputId": "15859929-01d3-482e-fa93-0d4bf2317a54"
      },
      "execution_count": 22,
      "outputs": [
        {
          "output_type": "stream",
          "name": "stdout",
          "text": [
            "frozenset({'others', 'cannot', 'ours', 'nevertheless', 'afterwards', 'fifteen', 'hereby', 'from', 'whence', 'etc', 'she', 'eg', 'when', 'same', 'while', 'call', 'your', 'several', 'himself', 'fill', 'whereupon', 'done', 'how', 'neither', 'so', 'former', 'amoungst', 'before', 'also', 'behind', 'back', 'besides', 'for', 'of', 'because', 'sixty', 'four', 'below', 'among', 'per', 'side', 'see', 'hereupon', 'further', 'another', 'very', 'myself', 'ltd', 'bottom', 'many', 'an', 'alone', 'what', 'everything', 'thin', 'eight', 'much', 'must', 'becomes', 'since', 'thick', 'one', 'beside', 'few', 'often', 'it', 'therein', 'if', 'though', 'forty', 'thereafter', 'had', 'who', 'anyone', 'that', 'sometimes', 'herein', 'might', 'even', 'do', 'every', 'co', 'noone', 'keep', 'anyway', 'found', 'those', 'no', 'again', 'its', 'into', 'therefore', 'whereas', 'still', 'too', 'around', 'due', 'but', 'am', 'whether', 'any', 'whose', 'through', 'hundred', 'full', 'interest', 'most', 'next', 'whoever', 'off', 'find', 'a', 'except', 'whereby', 'seemed', 'first', 'such', 'ourselves', 'under', 'may', 'everywhere', 'nowhere', 'after', 'seeming', 'third', 'there', 'however', 'nor', 'six', 'empty', 'elsewhere', 'more', 'wherever', 'is', 'become', 'name', 'between', 'whom', 'their', 'someone', 'perhaps', 'describe', 'three', 'becoming', 'nobody', 'amount', 'could', 'get', 'toward', 'well', 'not', 'otherwise', 'these', 'hers', 'me', 'you', 'system', 'he', 'sincere', 'here', 'whither', 'ie', 'us', 'other', 'go', 'been', 'made', 'via', 'yourself', 'be', 'sometime', 'we', 'anything', 'on', 'themselves', 'ever', 'less', 'anyhow', 'upon', 'than', 'along', 'my', 'top', 'put', 'they', 'un', 'which', 'and', 'moreover', 'itself', 'eleven', 'somewhere', 'thereupon', 'two', 'the', 'them', 'inc', 'by', 'everyone', 'only', 're', 'each', 'without', 'already', 'to', 'has', 'wherein', 'hereafter', 'rather', 'five', 'yours', 'whatever', 'across', 'thus', 'once', 'i', 'formerly', 'onto', 'why', 'detail', 'show', 'will', 'mill', 'have', 'thence', 'her', 'whole', 'nothing', 'indeed', 'please', 'twenty', 'hence', 'up', 'last', 'else', 'either', 'about', 'his', 'being', 'never', 'in', 'latter', 'yet', 'would', 'out', 'give', 'seem', 'least', 'latterly', 'own', 'together', 'fifty', 'nine', 'yourselves', 'or', 'ten', 'namely', 'twelve', 'mine', 'couldnt', 'then', 'are', 'part', 'fire', 'now', 'thereby', 'this', 'meanwhile', 'although', 'as', 'beforehand', 'down', 'somehow', 'something', 'was', 'beyond', 'until', 'whereafter', 'thru', 'towards', 'none', 'over', 'some', 'cant', 'anywhere', 'with', 'cry', 'should', 'against', 'enough', 'mostly', 'whenever', 'front', 'were', 'herself', 'serious', 'our', 'seems', 'amongst', 'at', 'both', 'all', 'him', 'within', 'became', 'take', 'can', 'de', 'during', 'con', 'throughout', 'above', 'always', 'move', 'where', 'bill', 'almost', 'hasnt'})\n"
          ]
        }
      ]
    },
    {
      "cell_type": "markdown",
      "source": [
        "from sklearn.manifold import TSNE\n",
        "\n",
        "First, just load documents of these three labels, as follows"
      ],
      "metadata": {
        "id": "c1u6XkvXfh1x"
      }
    },
    {
      "cell_type": "code",
      "source": [
        "from sklearn.manifold import TSNE\n",
        "categories_3 = ['talk.religion.misc', 'comp.graphics', 'sci.space']\n",
        "groups_3 = fetch_20newsgroups(categories=categories_3)"
      ],
      "metadata": {
        "id": "LQ2UAaGogEBG"
      },
      "execution_count": 28,
      "outputs": []
    }
  ]
}