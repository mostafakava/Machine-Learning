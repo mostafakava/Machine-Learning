{
  "nbformat": 4,
  "nbformat_minor": 0,
  "metadata": {
    "colab": {
      "provenance": []
    },
    "kernelspec": {
      "name": "python3",
      "display_name": "Python 3"
    },
    "language_info": {
      "name": "python"
    }
  },
  "cells": [
    {
      "cell_type": "markdown",
      "source": [
        "we import all the necessary modules and variables"
      ],
      "metadata": {
        "id": "vEkofD0Hn1Nz"
      }
    },
    {
      "cell_type": "code",
      "execution_count": null,
      "metadata": {
        "id": "6FUdbFtonzVR"
      },
      "outputs": [],
      "source": [
        "import numpy as np\n",
        "import pandas as pd\n",
        "from collections import defaultdict"
      ]
    },
    {
      "cell_type": "markdown",
      "source": [
        "upload local file"
      ],
      "metadata": {
        "id": "PcnmTy3N1TVu"
      }
    },
    {
      "cell_type": "code",
      "source": [
        "from google.colab import files\n",
        "uploaded = files.upload()\n"
      ],
      "metadata": {
        "colab": {
          "base_uri": "https://localhost:8080/",
          "height": 75
        },
        "id": "kJHzxryd0-o9",
        "outputId": "23a3d69b-34e1-4e62-f4ee-e4df68c6424e"
      },
      "execution_count": null,
      "outputs": [
        {
          "output_type": "display_data",
          "data": {
            "text/plain": [
              "<IPython.core.display.HTML object>"
            ],
            "text/html": [
              "\n",
              "     <input type=\"file\" id=\"files-d44fe1b1-db55-4d87-ba56-e27e5a62aff9\" name=\"files[]\" multiple disabled\n",
              "        style=\"border:none\" />\n",
              "     <output id=\"result-d44fe1b1-db55-4d87-ba56-e27e5a62aff9\">\n",
              "      Upload widget is only available when the cell has been executed in the\n",
              "      current browser session. Please rerun this cell to enable.\n",
              "      </output>\n",
              "      <script>// Copyright 2017 Google LLC\n",
              "//\n",
              "// Licensed under the Apache License, Version 2.0 (the \"License\");\n",
              "// you may not use this file except in compliance with the License.\n",
              "// You may obtain a copy of the License at\n",
              "//\n",
              "//      http://www.apache.org/licenses/LICENSE-2.0\n",
              "//\n",
              "// Unless required by applicable law or agreed to in writing, software\n",
              "// distributed under the License is distributed on an \"AS IS\" BASIS,\n",
              "// WITHOUT WARRANTIES OR CONDITIONS OF ANY KIND, either express or implied.\n",
              "// See the License for the specific language governing permissions and\n",
              "// limitations under the License.\n",
              "\n",
              "/**\n",
              " * @fileoverview Helpers for google.colab Python module.\n",
              " */\n",
              "(function(scope) {\n",
              "function span(text, styleAttributes = {}) {\n",
              "  const element = document.createElement('span');\n",
              "  element.textContent = text;\n",
              "  for (const key of Object.keys(styleAttributes)) {\n",
              "    element.style[key] = styleAttributes[key];\n",
              "  }\n",
              "  return element;\n",
              "}\n",
              "\n",
              "// Max number of bytes which will be uploaded at a time.\n",
              "const MAX_PAYLOAD_SIZE = 100 * 1024;\n",
              "\n",
              "function _uploadFiles(inputId, outputId) {\n",
              "  const steps = uploadFilesStep(inputId, outputId);\n",
              "  const outputElement = document.getElementById(outputId);\n",
              "  // Cache steps on the outputElement to make it available for the next call\n",
              "  // to uploadFilesContinue from Python.\n",
              "  outputElement.steps = steps;\n",
              "\n",
              "  return _uploadFilesContinue(outputId);\n",
              "}\n",
              "\n",
              "// This is roughly an async generator (not supported in the browser yet),\n",
              "// where there are multiple asynchronous steps and the Python side is going\n",
              "// to poll for completion of each step.\n",
              "// This uses a Promise to block the python side on completion of each step,\n",
              "// then passes the result of the previous step as the input to the next step.\n",
              "function _uploadFilesContinue(outputId) {\n",
              "  const outputElement = document.getElementById(outputId);\n",
              "  const steps = outputElement.steps;\n",
              "\n",
              "  const next = steps.next(outputElement.lastPromiseValue);\n",
              "  return Promise.resolve(next.value.promise).then((value) => {\n",
              "    // Cache the last promise value to make it available to the next\n",
              "    // step of the generator.\n",
              "    outputElement.lastPromiseValue = value;\n",
              "    return next.value.response;\n",
              "  });\n",
              "}\n",
              "\n",
              "/**\n",
              " * Generator function which is called between each async step of the upload\n",
              " * process.\n",
              " * @param {string} inputId Element ID of the input file picker element.\n",
              " * @param {string} outputId Element ID of the output display.\n",
              " * @return {!Iterable<!Object>} Iterable of next steps.\n",
              " */\n",
              "function* uploadFilesStep(inputId, outputId) {\n",
              "  const inputElement = document.getElementById(inputId);\n",
              "  inputElement.disabled = false;\n",
              "\n",
              "  const outputElement = document.getElementById(outputId);\n",
              "  outputElement.innerHTML = '';\n",
              "\n",
              "  const pickedPromise = new Promise((resolve) => {\n",
              "    inputElement.addEventListener('change', (e) => {\n",
              "      resolve(e.target.files);\n",
              "    });\n",
              "  });\n",
              "\n",
              "  const cancel = document.createElement('button');\n",
              "  inputElement.parentElement.appendChild(cancel);\n",
              "  cancel.textContent = 'Cancel upload';\n",
              "  const cancelPromise = new Promise((resolve) => {\n",
              "    cancel.onclick = () => {\n",
              "      resolve(null);\n",
              "    };\n",
              "  });\n",
              "\n",
              "  // Wait for the user to pick the files.\n",
              "  const files = yield {\n",
              "    promise: Promise.race([pickedPromise, cancelPromise]),\n",
              "    response: {\n",
              "      action: 'starting',\n",
              "    }\n",
              "  };\n",
              "\n",
              "  cancel.remove();\n",
              "\n",
              "  // Disable the input element since further picks are not allowed.\n",
              "  inputElement.disabled = true;\n",
              "\n",
              "  if (!files) {\n",
              "    return {\n",
              "      response: {\n",
              "        action: 'complete',\n",
              "      }\n",
              "    };\n",
              "  }\n",
              "\n",
              "  for (const file of files) {\n",
              "    const li = document.createElement('li');\n",
              "    li.append(span(file.name, {fontWeight: 'bold'}));\n",
              "    li.append(span(\n",
              "        `(${file.type || 'n/a'}) - ${file.size} bytes, ` +\n",
              "        `last modified: ${\n",
              "            file.lastModifiedDate ? file.lastModifiedDate.toLocaleDateString() :\n",
              "                                    'n/a'} - `));\n",
              "    const percent = span('0% done');\n",
              "    li.appendChild(percent);\n",
              "\n",
              "    outputElement.appendChild(li);\n",
              "\n",
              "    const fileDataPromise = new Promise((resolve) => {\n",
              "      const reader = new FileReader();\n",
              "      reader.onload = (e) => {\n",
              "        resolve(e.target.result);\n",
              "      };\n",
              "      reader.readAsArrayBuffer(file);\n",
              "    });\n",
              "    // Wait for the data to be ready.\n",
              "    let fileData = yield {\n",
              "      promise: fileDataPromise,\n",
              "      response: {\n",
              "        action: 'continue',\n",
              "      }\n",
              "    };\n",
              "\n",
              "    // Use a chunked sending to avoid message size limits. See b/62115660.\n",
              "    let position = 0;\n",
              "    do {\n",
              "      const length = Math.min(fileData.byteLength - position, MAX_PAYLOAD_SIZE);\n",
              "      const chunk = new Uint8Array(fileData, position, length);\n",
              "      position += length;\n",
              "\n",
              "      const base64 = btoa(String.fromCharCode.apply(null, chunk));\n",
              "      yield {\n",
              "        response: {\n",
              "          action: 'append',\n",
              "          file: file.name,\n",
              "          data: base64,\n",
              "        },\n",
              "      };\n",
              "\n",
              "      let percentDone = fileData.byteLength === 0 ?\n",
              "          100 :\n",
              "          Math.round((position / fileData.byteLength) * 100);\n",
              "      percent.textContent = `${percentDone}% done`;\n",
              "\n",
              "    } while (position < fileData.byteLength);\n",
              "  }\n",
              "\n",
              "  // All done.\n",
              "  yield {\n",
              "    response: {\n",
              "      action: 'complete',\n",
              "    }\n",
              "  };\n",
              "}\n",
              "\n",
              "scope.google = scope.google || {};\n",
              "scope.google.colab = scope.google.colab || {};\n",
              "scope.google.colab._files = {\n",
              "  _uploadFiles,\n",
              "  _uploadFilesContinue,\n",
              "};\n",
              "})(self);\n",
              "</script> "
            ]
          },
          "metadata": {}
        },
        {
          "output_type": "stream",
          "name": "stdout",
          "text": [
            "Saving ratings.csv to ratings.csv\n"
          ]
        }
      ]
    },
    {
      "cell_type": "markdown",
      "source": [
        "define some parameter"
      ],
      "metadata": {
        "id": "z9pOz91b18VI"
      }
    },
    {
      "cell_type": "code",
      "source": [
        "import io\n",
        "data_path = 'ratings.csv'\n",
        "n_users = 6040\n",
        "n_movies = 9743"
      ],
      "metadata": {
        "id": "xNDkj0UP1WM8"
      },
      "execution_count": null,
      "outputs": []
    },
    {
      "cell_type": "markdown",
      "source": [
        "We then develop the following function to load the rating data from ratings.dat"
      ],
      "metadata": {
        "id": "d-BDOH9W2EOH"
      }
    },
    {
      "cell_type": "code",
      "source": [
        "def load_rating_data(data_path, n_users, n_movies):\n",
        "    data = np.zeros([n_users, n_movies], dtype=np.float32)\n",
        "    movie_id_mapping = {}\n",
        "    movie_n_rating = defaultdict(int)\n",
        "    with open(data_path, 'r') as file:\n",
        "        for line in file.readlines()[1:]:\n",
        "            user_id, movie_id, rating, _ = line.split(\",\")\n",
        "            user_id = int(user_id) - 1\n",
        "            if movie_id not in movie_id_mapping:\n",
        "                movie_id_mapping[movie_id] = len(movie_id_mapping)\n",
        "            rating = int(float(rating))\n",
        "            data[user_id, movie_id_mapping[movie_id]] = rating\n",
        "            if rating > 0:\n",
        "                movie_n_rating[movie_id] += 1\n",
        "    return data, movie_n_rating, movie_id_mapping"
      ],
      "metadata": {
        "id": "KVX2gg0W6QVJ"
      },
      "execution_count": null,
      "outputs": []
    },
    {
      "cell_type": "markdown",
      "source": [
        "And then we load the data using this function"
      ],
      "metadata": {
        "id": "hqsX4rfZ3GDH"
      }
    },
    {
      "cell_type": "code",
      "source": [
        " data, movie_n_rating, movie_id_mapping = load_rating_data(data_path, n_users, n_movies)"
      ],
      "metadata": {
        "id": "bw4mQqBd3AzM"
      },
      "execution_count": null,
      "outputs": []
    },
    {
      "cell_type": "markdown",
      "source": [
        "It is always recommended to analyze the data distribution. We do the following"
      ],
      "metadata": {
        "id": "28IC6DPz2xAh"
      }
    },
    {
      "cell_type": "code",
      "source": [
        "def display_distribution(data):\n",
        "  values, counts = np.unique(data, return_counts=True)\n",
        "  for value, count in zip(values, counts):\n",
        "    print(f'Number of rating {int(value)}: {count}')\n",
        "display_distribution(data)"
      ],
      "metadata": {
        "colab": {
          "base_uri": "https://localhost:8080/"
        },
        "id": "AhkzNfsC2xoG",
        "outputId": "b88f31f9-db2a-4d69-b469-6392c7b7538e"
      },
      "execution_count": null,
      "outputs": [
        {
          "output_type": "stream",
          "name": "stdout",
          "text": [
            "Number of rating 0: 58748254\n",
            "Number of rating 1: 4602\n",
            "Number of rating 2: 13101\n",
            "Number of rating 3: 33183\n",
            "Number of rating 4: 35369\n",
            "Number of rating 5: 13211\n"
          ]
        }
      ]
    },
    {
      "cell_type": "markdown",
      "source": [
        "Since most ratings are unknown, we take the movie with the most known ratings as our target movie"
      ],
      "metadata": {
        "id": "XzkpzxKGBaRz"
      }
    },
    {
      "cell_type": "code",
      "source": [
        "movie_id_most, n_rating_most = sorted(movie_n_rating.items(),key=lambda d: d[1], reverse=True)[0]\n",
        "print(f'Movie ID {movie_id_most} has {n_rating_most} ratings.')"
      ],
      "metadata": {
        "colab": {
          "base_uri": "https://localhost:8080/"
        },
        "id": "iOtSAdVwBcH8",
        "outputId": "84a7b8aa-4e09-4a14-c8c8-eed9f02d960a"
      },
      "execution_count": null,
      "outputs": [
        {
          "output_type": "stream",
          "name": "stdout",
          "text": [
            "Movie ID 356 has 328 ratings.\n"
          ]
        }
      ]
    },
    {
      "cell_type": "markdown",
      "source": [
        "We construct the dataset accordingly"
      ],
      "metadata": {
        "id": "ZzrpMN80BqoL"
      }
    },
    {
      "cell_type": "code",
      "source": [
        "X_raw = np.delete(data, movie_id_mapping[movie_id_most],axis=1)\n",
        "Y_raw = data[:, movie_id_mapping[movie_id_most]]"
      ],
      "metadata": {
        "id": "RFuHO_NvBrLC"
      },
      "execution_count": null,
      "outputs": []
    },
    {
      "cell_type": "markdown",
      "source": [
        "We discard samples without a rating in movie ID 356"
      ],
      "metadata": {
        "id": "B1qKuaYuBza0"
      }
    },
    {
      "cell_type": "code",
      "source": [
        "X = X_raw[Y_raw > 0]\n",
        "Y = Y_raw[Y_raw > 0]\n",
        "print('Shape of X:', X.shape)\n",
        "print('Shape of Y:', Y.shape)"
      ],
      "metadata": {
        "colab": {
          "base_uri": "https://localhost:8080/"
        },
        "id": "344U_CkRB1DB",
        "outputId": "98a1cbd9-f169-48e8-f33a-a2d49b2c4566"
      },
      "execution_count": null,
      "outputs": [
        {
          "output_type": "stream",
          "name": "stdout",
          "text": [
            "Shape of X: (328, 9742)\n",
            "Shape of Y: (328,)\n"
          ]
        }
      ]
    },
    {
      "cell_type": "markdown",
      "source": [
        "Again, we take a look at the distribution of the target movie ratings"
      ],
      "metadata": {
        "id": "RV-2SvMbCA6E"
      }
    },
    {
      "cell_type": "code",
      "source": [
        "display_distribution(Y)"
      ],
      "metadata": {
        "colab": {
          "base_uri": "https://localhost:8080/"
        },
        "id": "SVJCOHH0CBcd",
        "outputId": "45701256-352f-4c7e-eb7e-e99cc3e2c23f"
      },
      "execution_count": null,
      "outputs": [
        {
          "output_type": "stream",
          "name": "stdout",
          "text": [
            "Number of rating 1: 1\n",
            "Number of rating 2: 12\n",
            "Number of rating 3: 66\n",
            "Number of rating 4: 133\n",
            "Number of rating 5: 116\n"
          ]
        }
      ]
    },
    {
      "cell_type": "markdown",
      "source": [
        "We can consider movies with ratings greater than 3 as being liked (being recommended)"
      ],
      "metadata": {
        "id": "NG8eSU1DCMkk"
      }
    },
    {
      "cell_type": "code",
      "source": [
        "recommend = 3\n",
        "Y[Y <= recommend] = 0\n",
        "Y[Y > recommend] = 1\n",
        "n_pos = (Y == 1).sum()\n",
        "n_neg = (Y == 0).sum()\n",
        "print(f'{n_pos} positive samples and {n_neg} negativesamples.')"
      ],
      "metadata": {
        "colab": {
          "base_uri": "https://localhost:8080/"
        },
        "id": "SSqW6NTECOBo",
        "outputId": "13728d0b-4e0c-4157-fe84-1693b330abc3"
      },
      "execution_count": null,
      "outputs": [
        {
          "output_type": "stream",
          "name": "stdout",
          "text": [
            "249 positive samples and 79 negativesamples.\n"
          ]
        }
      ]
    },
    {
      "cell_type": "code",
      "source": [
        "from sklearn.model_selection import train_test_split\n",
        "X_train, X_test, Y_train, Y_test = train_test_split(X, Y,test_size=0.2, random_state=42)"
      ],
      "metadata": {
        "id": "4CSHlg06CXPv"
      },
      "execution_count": null,
      "outputs": []
    },
    {
      "cell_type": "code",
      "source": [
        "print(len(Y_train), len(Y_test))"
      ],
      "metadata": {
        "colab": {
          "base_uri": "https://localhost:8080/"
        },
        "id": "6_33MihCCdXS",
        "outputId": "776fe444-c25a-469a-d630-becdbc802227"
      },
      "execution_count": null,
      "outputs": [
        {
          "output_type": "stream",
          "name": "stdout",
          "text": [
            "262 66\n"
          ]
        }
      ]
    },
    {
      "cell_type": "code",
      "source": [
        "from sklearn.naive_bayes import MultinomialNB\n",
        "clf = MultinomialNB(alpha=1.0, fit_prior=True)\n",
        "clf.fit(X_train, Y_train)"
      ],
      "metadata": {
        "colab": {
          "base_uri": "https://localhost:8080/"
        },
        "id": "O5bgKwwkCly-",
        "outputId": "eb1ed192-97ff-4b99-a9dd-d784aba0c6a4"
      },
      "execution_count": null,
      "outputs": [
        {
          "output_type": "execute_result",
          "data": {
            "text/plain": [
              "MultinomialNB()"
            ]
          },
          "metadata": {},
          "execution_count": 65
        }
      ]
    },
    {
      "cell_type": "markdown",
      "source": [
        "Then, we use the trained model to make predictions on the testing set. We get the predicted probabilities as follows"
      ],
      "metadata": {
        "id": "W1RS2_tWCq_S"
      }
    },
    {
      "cell_type": "code",
      "source": [
        "prediction_prob = clf.predict_proba(X_test)\n",
        "print(prediction_prob[0:10])"
      ],
      "metadata": {
        "colab": {
          "base_uri": "https://localhost:8080/"
        },
        "id": "_nkScOebCtau",
        "outputId": "50cb7933-fa1f-4566-8156-bc9f49458d6e"
      },
      "execution_count": null,
      "outputs": [
        {
          "output_type": "stream",
          "name": "stdout",
          "text": [
            "[[5.84898799e-07 9.99999415e-01]\n",
            " [2.91964285e-10 1.00000000e+00]\n",
            " [1.16699945e-14 1.00000000e+00]\n",
            " [1.62143225e-18 1.00000000e+00]\n",
            " [1.17778539e-14 1.00000000e+00]\n",
            " [5.56378983e-24 1.00000000e+00]\n",
            " [5.07106739e-85 1.00000000e+00]\n",
            " [2.82229843e-61 1.00000000e+00]\n",
            " [8.64057221e-01 1.35942779e-01]\n",
            " [1.00000000e+00 1.15572676e-29]]\n"
          ]
        }
      ]
    },
    {
      "cell_type": "markdown",
      "source": [
        "We get the predicted class as follows"
      ],
      "metadata": {
        "id": "iK-sN7UHCzD_"
      }
    },
    {
      "cell_type": "code",
      "source": [
        "prediction = clf.predict(X_test)\n",
        "print(prediction[:10])"
      ],
      "metadata": {
        "colab": {
          "base_uri": "https://localhost:8080/"
        },
        "id": "j8mxl26lCwRi",
        "outputId": "2738d975-f458-4e3a-c792-40d542e5bb02"
      },
      "execution_count": null,
      "outputs": [
        {
          "output_type": "stream",
          "name": "stdout",
          "text": [
            "[1. 1. 1. 1. 1. 1. 1. 1. 0. 0.]\n"
          ]
        }
      ]
    },
    {
      "cell_type": "markdown",
      "source": [
        "Finally, we evaluate the model's performance with classification accuracy, which is the proportion of correct predictions"
      ],
      "metadata": {
        "id": "wvP5xrHAC57Q"
      }
    },
    {
      "cell_type": "code",
      "source": [
        "accuracy = clf.score(X_test, Y_test)\n",
        "print(f'The accuracy is: {accuracy*100:.1f}%')"
      ],
      "metadata": {
        "colab": {
          "base_uri": "https://localhost:8080/"
        },
        "id": "Sl-cOx9VC8T2",
        "outputId": "35f3fa91-4ca7-456b-8590-ba4b9589b7c0"
      },
      "execution_count": null,
      "outputs": [
        {
          "output_type": "stream",
          "name": "stdout",
          "text": [
            "The accuracy is: 69.7%\n"
          ]
        }
      ]
    }
  ]
}