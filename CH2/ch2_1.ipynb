{
  "nbformat": 4,
  "nbformat_minor": 0,
  "metadata": {
    "colab": {
      "provenance": []
    },
    "kernelspec": {
      "name": "python3",
      "display_name": "Python 3"
    },
    "language_info": {
      "name": "python"
    }
  },
  "cells": [
    {
      "cell_type": "markdown",
      "source": [
        " first we define needed dataset"
      ],
      "metadata": {
        "id": "Y9EoL3NLUs_Q"
      }
    },
    {
      "cell_type": "code",
      "execution_count": null,
      "metadata": {
        "id": "m6ha4y4sT9M9"
      },
      "outputs": [],
      "source": [
        "import numpy as np\n",
        "X_train = np.array([\n",
        "    [0, 1, 1],\n",
        "    [0, 0, 1],\n",
        "    [0, 0, 0],\n",
        "    [1, 1, 0]])\n",
        "Y_train = ['Y', 'N', 'Y', 'Y']\n",
        "X_test = np.array([[1, 1, 0]])"
      ]
    },
    {
      "cell_type": "markdown",
      "source": [
        " function wicth based on label we group the data"
      ],
      "metadata": {
        "id": "Bb5tOb22VepI"
      }
    },
    {
      "cell_type": "code",
      "source": [
        "def get_label_indices(labels):\n",
        "  from collections import defaultdict\n",
        "  label_indices = defaultdict(list)\n",
        "  for index, label in enumerate(labels):\n",
        "    label_indices[label].append(index)\n",
        "  return label_indices"
      ],
      "metadata": {
        "id": "CgXwkIKyU2Qg"
      },
      "execution_count": null,
      "outputs": []
    },
    {
      "cell_type": "markdown",
      "source": [
        "in this place we can see data labeled and it result"
      ],
      "metadata": {
        "id": "8ROOMWqbVmNN"
      }
    },
    {
      "cell_type": "code",
      "source": [
        "label_indices = get_label_indices(Y_train)\n",
        "print('label_indices:\\n', label_indices)"
      ],
      "metadata": {
        "colab": {
          "base_uri": "https://localhost:8080/"
        },
        "id": "yxJU6p1HVmet",
        "outputId": "fba6b060-265a-4f93-ed9d-4ee01a4deffa"
      },
      "execution_count": null,
      "outputs": [
        {
          "output_type": "stream",
          "name": "stdout",
          "text": [
            "label_indices:\n",
            " defaultdict(<class 'list'>, {'Y': [0, 2, 3], 'N': [1]})\n"
          ]
        }
      ]
    },
    {
      "cell_type": "markdown",
      "source": [
        "this function calculate prior"
      ],
      "metadata": {
        "id": "0COKWJ2qWU3v"
      }
    },
    {
      "cell_type": "code",
      "source": [
        "def get_prior(label_indices):\n",
        "  prior = {label: len(indices) for label, indices in label_indices.items()}\n",
        "  total_count = sum(prior.values())\n",
        "  for label in prior:\n",
        "    prior[label] /= total_count\n",
        "  return prior"
      ],
      "metadata": {
        "id": "P21A1gjAWZsF"
      },
      "execution_count": null,
      "outputs": []
    },
    {
      "cell_type": "markdown",
      "source": [
        "now lets compute prior"
      ],
      "metadata": {
        "id": "9Wqu83QvW9iQ"
      }
    },
    {
      "cell_type": "code",
      "source": [
        "prior = get_prior(label_indices)\n",
        "print('Prior:', prior)"
      ],
      "metadata": {
        "colab": {
          "base_uri": "https://localhost:8080/"
        },
        "id": "oSjYOq2QXBji",
        "outputId": "49670034-387e-4bf5-a4f7-b82eb7acacb0"
      },
      "execution_count": null,
      "outputs": [
        {
          "output_type": "stream",
          "name": "stdout",
          "text": [
            "Prior: {'Y': 0.75, 'N': 0.25}\n"
          ]
        }
      ]
    },
    {
      "cell_type": "markdown",
      "source": [
        "With prior calculated, we continue with likelihood, which is the conditional probability"
      ],
      "metadata": {
        "id": "airXNY8VXrYH"
      }
    },
    {
      "cell_type": "code",
      "source": [
        "def get_likelihood(features, label_indices, smoothing=0):\n",
        "  likelihood = {}\n",
        "  for label, indices in label_indices.items():\n",
        "    likelihood[label] = features[indices, :].sum(axis=0)+ smoothing\n",
        "    total_count = len(indices)\n",
        "    likelihood[label] = likelihood[label] / (total_count + 2 * smoothing)\n",
        "  return likelihood"
      ],
      "metadata": {
        "id": "yf-LKql3XwmX"
      },
      "execution_count": null,
      "outputs": []
    },
    {
      "cell_type": "markdown",
      "source": [
        "We set the smoothing value to 1 here, which can also be 0 for no smoothing, or any other positive value, as long as a higher classification performance is achieved:"
      ],
      "metadata": {
        "id": "ndVGk6t7YU3r"
      }
    },
    {
      "cell_type": "code",
      "source": [
        "smoothing = 1\n",
        "likelihood = get_likelihood(X_train, label_indices, smoothing)\n",
        "print('Likelihood:\\n', likelihood)"
      ],
      "metadata": {
        "colab": {
          "base_uri": "https://localhost:8080/"
        },
        "id": "Ph8o16diYZJo",
        "outputId": "f65dac1a-99b1-414e-f675-f6f539702529"
      },
      "execution_count": null,
      "outputs": [
        {
          "output_type": "stream",
          "name": "stdout",
          "text": [
            "Likelihood:\n",
            " {'Y': array([0.4, 0.6, 0.4]), 'N': array([0.33333333, 0.33333333, 0.66666667])}\n"
          ]
        }
      ]
    },
    {
      "cell_type": "markdown",
      "source": [
        "With prior and likelihood ready, we can now compute the posterior for the testing/ new samples:"
      ],
      "metadata": {
        "id": "KH-JzDp1YjRB"
      }
    },
    {
      "cell_type": "code",
      "source": [
        "def get_posterior(X, prior, likelihood):\n",
        "  posteriors = []\n",
        "  for x in X:\n",
        "    posterior = prior.copy()\n",
        "    for label, likelihood_label in likelihood.items():\n",
        "      for index, bool_value in enumerate(x):\n",
        "        posterior[label] *= likelihood_label[index] if bool_value else (1 - likelihood_label[index])\n",
        "      sum_posterior = sum(posterior.values())\n",
        "      for label in posterior:\n",
        "        if posterior[label] == float('inf'):\n",
        "          posterior[label] = 1.0\n",
        "        else:\n",
        "          posterior[label] /= sum_posterior\n",
        "      posteriors.append(posterior.copy())\n",
        "    return posteriors\n",
        "\n"
      ],
      "metadata": {
        "id": "entyP4cZYnrA"
      },
      "execution_count": null,
      "outputs": []
    },
    {
      "cell_type": "markdown",
      "source": [
        "Now, let's predict the class of our one sample test set using this prediction function:"
      ],
      "metadata": {
        "id": "uzP59MlOZKVC"
      }
    },
    {
      "cell_type": "code",
      "source": [
        "posterior = get_posterior(X_test, prior, likelihood)\n",
        "print('Posterior:\\n', posterior)"
      ],
      "metadata": {
        "id": "Hvv4hV1mZMjC",
        "outputId": "380d205d-6257-4d0f-d273-c58b6c11994c",
        "colab": {
          "base_uri": "https://localhost:8080/"
        }
      },
      "execution_count": null,
      "outputs": [
        {
          "output_type": "stream",
          "name": "stdout",
          "text": [
            "Posterior:\n",
            " [{'Y': 0.30167597765363136, 'N': 0.6983240223463687}, {'Y': 0.9210360075805433, 'N': 0.0789639924194567}]\n"
          ]
        }
      ]
    }
  ]
}